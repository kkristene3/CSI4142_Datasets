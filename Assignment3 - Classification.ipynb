{
 "cells": [
  {
   "cell_type": "markdown",
   "id": "34c3d453-b083-4063-880e-25c0f211c2cb",
   "metadata": {},
   "source": [
    "Group Number: #127\n",
    "<br>\n",
    "Names: Alex Oprea, Kristen Duong\n",
    "<br>\n",
    "Student Numbers: 300230368, 300240425"
   ]
  },
  {
   "cell_type": "markdown",
   "id": "ecebce15-5037-4ea1-9c6d-ad6e7547839b",
   "metadata": {},
   "source": [
    "# Introduction\n",
    "In this notebook, we perform a classification emperical study on the \"Stroke Prediction Dataset\", using a decision tree to predict the likelihood of stroke. We start by cleaning up the dataset and encoding the values for better usage. We then create different ways to improve the data for prediction, including outlier removal and the creation of aggregated columns. In the end, we try multiple combinations of prediction tests to see the best one, before doing our final prediction.\n",
    "\n",
    "To use this notebook, the user must be able to import libraries pandas, math, seaborn, matplotlib, lightgbm and sklearn"
   ]
  },
  {
   "cell_type": "markdown",
   "id": "d26e4865-7a82-4580-ba09-77d53ba1b114",
   "metadata": {},
   "source": [
    "# Description\n",
    "<i>Dataset name:</i> Stroke Prediction Dataset<br>\n",
    "<i>Purpose:</i> The purpose of this dataset is to indicate and later predict whether someone is going to have a stroke based on their living habits and pre-existing health conditions.\n",
    "<br>\n",
    "<i>Domain:</i> Healthcare, Medicine<br>\n",
    "<i>Audience:</i> Doctors who want to help stroke patients, or figure out howlikely their patient is to get a stroke and people who want to adjust their lifestyle to lower their risk of getting a stroke.<br>\n",
    "<br>\n",
    "<i>Categorical Attributes:</i>\n",
    "- gender: Represents the gender of the person\n",
    "- hypertension: Boolean variable, representing whether the person has hypertension or not (1 for yes, 0 for no)\n",
    "- heart_disease: Boolean variable, representing whether the person has a heart_disease or not\n",
    "- ever_married: Boolean variable (yes or no) representing if someone’s ever been married.\n",
    "- work_type: indicates the employment status and type of the person\n",
    "- Residence_type: Indicates whether the person lives in a rural or urban area\n",
    "- smoking_status: indicates whether the person is currently or has ever smoked.\n",
    "- stroke: boolean variable indicating whether the person had a stroke or not.\n",
    "\n",
    "<i>Numerical Attributes:</i>\n",
    "- id: Number to represent/distinguish the different people studied\n",
    "- age: Represents the age of the person\n",
    "- avg_glucose_level: the average glucose level of the person’s blood\n",
    "- bmi: The body mass index of the person\n"
   ]
  },
  {
   "cell_type": "code",
   "execution_count": 141,
   "id": "29243619-4422-4528-bfd0-e84465024139",
   "metadata": {},
   "outputs": [],
   "source": [
    "# Import libraries\n",
    "import pandas as pd\n",
    "import math\n",
    "import seaborn as sns\n",
    "import matplotlib.pyplot as plt\n",
    "import lightgbm as lgb\n",
    "from sklearn.neighbors import LocalOutlierFactor\n",
    "from sklearn.tree import DecisionTreeClassifier\n",
    "from sklearn.model_selection import train_test_split\n",
    "from sklearn.model_selection import KFold\n",
    "from sklearn.metrics import accuracy_score\n",
    "\n",
    "# load csv files from github\n",
    "stroke = pd.read_csv('https://raw.githubusercontent.com/kkristene3/CSI4142_Datasets/refs/heads/main/stroke.csv')"
   ]
  },
  {
   "cell_type": "markdown",
   "id": "7f355c05-d1d9-4cdb-add8-17ef73b7b18d",
   "metadata": {},
   "source": [
    "# Classification Emperical Study"
   ]
  },
  {
   "cell_type": "markdown",
   "id": "cee0f11f-a06f-4c34-8ca2-c22c4ca44f0e",
   "metadata": {},
   "source": [
    "Part a: Cleaning the data<br>\n",
    "Looking at the dataset, we've determined the things to take into consideration:\n",
    "1. \"bmi\" column with the nan values\n",
    "2. Since these are all different people, there should be no exact duplicates\n",
    "3. The \"unknown\" value in the \"smoking_status\" column\n",
    "4. The ranges of the numerical attributes"
   ]
  },
  {
   "cell_type": "code",
   "execution_count": 169,
   "id": "89b3f89c-adf0-4674-8856-46c669cf7a37",
   "metadata": {},
   "outputs": [],
   "source": [
    "#The dataset has some N/A values in its bmi column. There aren't many, so we can just remove those rows; it shouldn't have much of an impact on the end result.\n",
    "cleanStroke = stroke.copy()\n",
    "rows = []\n",
    "\n",
    "#if the row has a nan column, we want to flag it as an index we wanna get rid of\n",
    "for index, row in stroke.iterrows():\n",
    "    floated = float(row[\"bmi\"])\n",
    "    if math.isnan(floated):\n",
    "        rows.append(index)\n",
    "\n",
    "#getting rid of the rows that have nan in them\n",
    "for i in rows:\n",
    "    cleanStroke = cleanStroke.drop(index=i)\n",
    "\n",
    "#resetting the indexes so the removal of the nan rows doesn't impact the dataset\n",
    "cleanStroke = cleanStroke.reset_index(drop=True)\n",
    "\n",
    "#We also want to remove exact duplicates (that would be the same person). Near duplicates are not a concern since the study includes people\n",
    "#If the id is different, that means that the study is referring to 2 different people (even if their information is the same).\n",
    "#Additionally, since these are people and not an instance of an event, there definitely exists people in the world that have the same information for all these rows since none of them include any personal, unique information\n",
    "cleanStroke = cleanStroke.drop_duplicates()\n",
    "\n",
    "#resetting the indexes so the removal of the dataset\n",
    "cleanStroke = cleanStroke.reset_index(drop=True)\n",
    "\n",
    "#Finally, there is the \"Unknown\" value in the smoking_status row\n",
    "#If \"Unknown\" means that the person doesn't know whether or not they've smokes, we can assume this would present similar results as \"never smoked\"\n",
    "#We are looking at smoking as a lifestyle more than an occurence, so if the user can't even remember smoking, then they couldn't have smoked enough to create an impact on their life\n",
    "#So, we will replace all \"Unknown\" values with \"never smoked\"\n",
    "for index, row in cleanStroke.iterrows():\n",
    "    if (row[\"smoking_status\"] == \"Unknown\"):\n",
    "        cleanStroke.loc[index, \"smoking_status\"] = \"never smoked\"\n",
    "\n",
    "#bmi, age and glucose_level don't have specific ranges but they shouldn't be below 0, so we should make sure there are none of those\n",
    "#if they are there, we want to get rid of the row because it is not valid\n",
    "for ind, row in cleanStroke.iterrows():\n",
    "    if (row[\"bmi\"]<0 or row[\"age\"]<0 or row[\"avg_glucose_level\"]<0):\n",
    "        cleanStroke = cleanStroke.drop(index=ind)\n",
    "\n",
    "#resetting the indexes so the removal of the dataset\n",
    "cleanStroke = cleanStroke.reset_index(drop=True)\n",
    "\n"
   ]
  },
  {
   "cell_type": "markdown",
   "id": "89390a09-5fd1-4b67-8e50-8e6577380c3a",
   "metadata": {},
   "source": [
    "Part b: Numerical Feature Encoding <br>\n",
    "There are 3 numerical columns that could be grouped into bins:\n",
    "1. \"bmi\": There are already pre-set ranges for the bins on the internet. After a bit of research, this attribute could be divided into 6 categories\n",
    "2. \"age\": Split by developmental stage\n",
    "3. \"avg_glucose_level\": Split by diagnoses typically given for glucose level ranges (also found on internet)"
   ]
  },
  {
   "cell_type": "code",
   "execution_count": 170,
   "id": "b115c52d-74d6-432c-919d-3c1a1c2a6eb7",
   "metadata": {},
   "outputs": [],
   "source": [
    "#creating a function for numerical feature encoding\n",
    "\n",
    "def encodeFeatures(binnedStroke):\n",
    "    \n",
    "    #For the BMI column, we want to bin based on the medically known ranges (typically would be domain knowledge but I found it by searching it up)\n",
    "    bins = [0, 18.5, 24.9, 29.9, 34.9, 39.9, 100]\n",
    "    categories = [\"Underweight\", \"Normal Weight\", \"Overweight\", \"Obese class I\", \"Obese class II\", \"Obese class III\"]\n",
    "    \n",
    "    binnedStroke[\"bmi_bin\"] = pd.cut(binnedStroke[\"bmi\"], bins=bins, labels=categories)\n",
    "    \n",
    "    #For the Age column, we can bin ages by age-group\n",
    "    categories = [\"Infant\", \"Toddler\", \"Child\", \"Adolescent\", \"Young Adult\", \"Middle Adult\", \"Senior Adult\"]\n",
    "    bins = [0, 1.9, 4.9, 12.9, 19.9, 39.9, 59.9, 100]\n",
    "    \n",
    "    binnedStroke[\"age_bin\"] = pd.cut(binnedStroke[\"age\"], bins=bins, labels=categories)\n",
    "    \n",
    "    #binning avg_glucose level needs domain knowledge, but after some research, we find that we can bin it based on the implication is has for your health\n",
    "    categories = [\"Hypoglycemic\", \"Normal\", \"Prediabetic\", \"Diabetic\"]\n",
    "    bins = [0, 69, 99, 125, 300]\n",
    "    \n",
    "    binnedStroke[\"glucose_bin\"] = pd.cut(binnedStroke[\"avg_glucose_level\"], bins=bins, labels=categories)\n",
    "    \n",
    "    #Now that all the numeric columns have been binned, we can get rid of the old columns\n",
    "    del binnedStroke[\"bmi\"]\n",
    "    del binnedStroke[\"age\"]\n",
    "    del binnedStroke[\"avg_glucose_level\"]\n"
   ]
  },
  {
   "cell_type": "markdown",
   "id": "4c537a14-15bb-4e8f-9d4c-2909adb526a6",
   "metadata": {},
   "source": [
    "Part c: EDA and Outlier Detection\n",
    "<br>The only columns that are realistically at risk for outliers are the numeric ones, so we plot them all in box plots. If we see enough outliers, we will do the LOF for those columns."
   ]
  },
  {
   "cell_type": "code",
   "execution_count": 119,
   "id": "f264fc51-ec2a-4fcc-9a09-783026f24d23",
   "metadata": {},
   "outputs": [
    {
     "data": {
      "image/png": "[encoded data removed]",
      "text/plain": [
       "<Figure size 640x480 with 1 Axes>"
      ]
     },
     "metadata": {},
     "output_type": "display_data"
    }
   ],
   "source": [
    "#The three numerical columns we need to search for outliers are bmi, age and avg_glucose_level (the categorical ones all have expected values after the cleaning in part a)\n",
    "#To see possible outliers with EDF, we will draw boxplots\n",
    "#First, bmi:\n",
    "sns.boxplot(y=cleanStroke[\"bmi\"])\n",
    "plt.title(\"BMI Boxplot check for Outliers\")\n",
    "plt.show()"
   ]
  },
  {
   "cell_type": "code",
   "execution_count": 85,
   "id": "54dcd841-e8f2-4719-91e2-3f363644f197",
   "metadata": {},
   "outputs": [
    {
     "data": {
      "image/png": "[encoded data removed]",
      "text/plain": [
       "<Figure size 640x480 with 1 Axes>"
      ]
     },
     "metadata": {},
     "output_type": "display_data"
    }
   ],
   "source": [
    "sns.boxplot(y=cleanStroke[\"age\"])\n",
    "plt.title(\"Age Boxplot check for Outliers\")\n",
    "plt.show()"
   ]
  },
  {
   "cell_type": "code",
   "execution_count": 120,
   "id": "ed6a7ad0-0c7b-44be-b888-6e8e2ef7db1a",
   "metadata": {},
   "outputs": [
    {
     "data": {
      "image/png": "[encoded data removed]",
      "text/plain": [
       "<Figure size 640x480 with 1 Axes>"
      ]
     },
     "metadata": {},
     "output_type": "display_data"
    }
   ],
   "source": [
    "sns.boxplot(y=cleanStroke[\"avg_glucose_level\"])\n",
    "plt.title(\"Glucose Boxplot check for Outliers\")\n",
    "plt.show()"
   ]
  },
  {
   "cell_type": "code",
   "execution_count": 200,
   "id": "d029b8ff-def4-44c4-a5df-e4dd35f3a943",
   "metadata": {},
   "outputs": [
    {
     "name": "stdout",
     "output_type": "stream",
     "text": [
      "For BMI and Glucose, these boxplots show a lot of points on top of the Q3. Looking at these, I'd assume that these two columns have many outliers.\n",
      "However, due to the purpose of this dataset, I would assume that a lot of these extreme values flagged as 'outliers' are intentional.\n",
      "If people were to get a stroke at an unexpected time in their lives, it would make sense to look for extreme values in these two columns.\n",
      "Since it is required by the assignment to deal with outliers, I will flag some values as outliers anyways and remove them (but make the contamination value low so we don't lose too much data).\n",
      "Age doesn't have any points in the boxplot and can therefore be safe from the outlier check.\n"
     ]
    }
   ],
   "source": [
    "print(\"For BMI and Glucose, these boxplots show a lot of points on top of the Q3. Looking at these, I'd assume that these two columns have many outliers.\")\n",
    "print(\"However, due to the purpose of this dataset, I would assume that a lot of these extreme values flagged as 'outliers' are intentional.\")\n",
    "print(\"If people were to get a stroke at an unexpected time in their lives, it would make sense to look for extreme values in these two columns.\")\n",
    "print(\"Since it is required by the assignment to deal with outliers, I will flag some values as outliers anyways and remove them (but make the contamination value low so we don't lose too much data).\")\n",
    "print(\"Age doesn't have any points in the boxplot and can therefore be safe from the outlier check.\")\n",
    "def findOutliers(dat, column):\n",
    "    outlierRows  = []\n",
    "    outlierSet = dat.copy()\n",
    "    lof = LocalOutlierFactor(n_neighbors=50, contamination=0.1) \n",
    "    row = dat[[column]].values\n",
    "    outlierStatus = lof.fit_predict(row)\n",
    "\n",
    "    outlierSet['Outlier Status'] = outlierStatus\n",
    "\n",
    "    for index, row in outlierSet.iterrows():\n",
    "        #if the status is -1, then it is an outlier\n",
    "        if row['Outlier Status'] == -1:\n",
    "            outlierRows.append(index)\n",
    "\n",
    "    for i in outlierRows:\n",
    "        dat = dat.drop(index=i)\n",
    "\n",
    "    dat = dat.reset_index(drop=True)\n",
    "\n",
    "    return dat\n",
    "\n",
    "def removeOutliers(dat):\n",
    "    dat = findOutliers(dat, \"bmi\")\n",
    "    dat = findOutliers(dat, \"avg_glucose_level\")\n",
    "    return dat\n"
   ]
  },
  {
   "cell_type": "markdown",
   "id": "929bcce8-3484-48ee-b36d-400fc650c2fd",
   "metadata": {},
   "source": [
    "Part d: Predictive Analysis (Decision Trees)\n",
    "<br>Following experimentation with the different parameters in the DecisionTreeClassifier class, this function includes the values we decied on. It will be called during the future parts."
   ]
  },
  {
   "cell_type": "code",
   "execution_count": 172,
   "id": "8181120a-cebd-4560-9082-2106283d2afe",
   "metadata": {},
   "outputs": [],
   "source": [
    "#target is the column we want to predict\n",
    "def createDecisionTree(dataset1, testSet1, target):\n",
    "\n",
    "    categorical_columns = ['gender', 'ever_married', 'work_type', 'Residence_type', 'smoking_status']\n",
    "    dataset = dataset1.copy()\n",
    "    testSet = testSet1.copy()\n",
    "\n",
    "    # Convert categorical columns to category dtype\n",
    "    for col in categorical_columns:\n",
    "        dataset[col] = dataset[col].astype('category')\n",
    "        testSet[col] = testSet[col].astype('category')\n",
    "\n",
    "    #we start by splitting the dataset into the rest of the dataset and the target column\n",
    "    restOfDataset = dataset.drop(target, axis=1) \n",
    "    guessColumn = dataset[target]\n",
    "\n",
    "    #do the same to the test set\n",
    "    restOfTestData = testSet.drop(target, axis=1)\n",
    "    testGuessColumn = testSet[target]\n",
    "\n",
    "    #Create the tree classifier\n",
    "    tree = lgb.LGBMClassifier(objective='binary', boosting_type='gbdt', random_state=42, class_weight='balanced', verbose=-1)\n",
    "\n",
    "    #build the tree\n",
    "    tree.fit(restOfDataset, guessColumn, categorical_feature=categorical_columns)\n",
    "\n",
    "    #predict the test set values with the tree\n",
    "    predictedTarg = tree.predict(restOfTestData)\n",
    "\n",
    "    #return the prediction score from the decision tree\n",
    "    return accuracy_score(testGuessColumn, predictedTarg)\n",
    "    \n",
    "    "
   ]
  },
  {
   "cell_type": "markdown",
   "id": "48320855-7e1b-4b8b-9a64-3ced5d643575",
   "metadata": {},
   "source": [
    "Part e: Feature Engineering<br>\n",
    "Creating 2 new features:\n",
    "1. A sum of bmi and avg_glucose_level - if both of these are high, the likelihood of a stroke is much higher. So, bigger sums = bigger chance of stroke\n",
    "2. A ratio of age to bmi - As people grow and develop with age, their weight should typically be in a certain range. Any number that is way too small (aka huge bmi in comparison to size) could be indicative of a stroke."
   ]
  },
  {
   "cell_type": "code",
   "execution_count": 192,
   "id": "2ddb3317-5fb1-4ce9-b12e-719fd15d9876",
   "metadata": {},
   "outputs": [],
   "source": [
    "def createNewFeatures(dataset):\n",
    "    for index, row in dataset.iterrows():\n",
    "        #add values to sum column\n",
    "        dataset.loc[index, \"bmi_glucose\"] = row[\"bmi\"] + row[\"avg_glucose_level\"]\n",
    "\n",
    "        #add values to ratio column (numbers are multiplied by 100 at the end to ensure they are not unnecessarily small)\n",
    "        dataset.loc[index, \"age_bmi_ratio\"] = row[\"age\"]/row[\"bmi\"]*100\n",
    "\n",
    "    return dataset\n"
   ]
  },
  {
   "cell_type": "markdown",
   "id": "74124017-e357-4953-89e0-b93aaa0e153b",
   "metadata": {},
   "source": [
    "Part f: Empirical Study"
   ]
  },
  {
   "cell_type": "code",
   "execution_count": 205,
   "id": "e2c642f6-c0c2-44e5-82cf-453b86c8b651",
   "metadata": {},
   "outputs": [
    {
     "name": "stdout",
     "output_type": "stream",
     "text": [
      "DR1 - Original Dataset:\n",
      "Test 1 : 0.9024390243902439\n",
      "Test 2 : 0.9157608695652174\n",
      "Test 3 : 0.9211956521739131\n",
      "Test 4 : 0.9184782608695652\n",
      "After doing a 4-fold cross-validation of DR1 (the original dataset), the average score is 0.914468451749735\n",
      "\n",
      "DR2 - Outlier Removal:\n",
      "Test 1 : 0.9264214046822743\n",
      "Test 2 : 0.9364548494983278\n",
      "Test 3 : 0.9230769230769231\n",
      "Test 4 : 0.9395973154362416\n",
      "After doing a 4-fold cross-validation of DR2 (the dataset without outliers), the average score is 0.9313876231734417\n",
      "\n",
      "DR3 - Has Aggregation:\n",
      "Test 1 : 0.9349593495934959\n",
      "Test 2 : 0.9402173913043478\n",
      "Test 3 : 0.9347826086956522\n",
      "Test 4 : 0.9320652173913043\n",
      "After doing a 4-fold cross-validation of DR3 (dataset with aggregation), the average score is 0.9355061417462001\n",
      "\n",
      "DR4 - Has Aggregation and no outliers:\n",
      "Test 1 : 0.9264214046822743\n",
      "Test 2 : 0.9364548494983278\n",
      "Test 3 : 0.9431438127090301\n",
      "Test 4 : 0.9395973154362416\n",
      "After doing a 4-fold cross-validation of DR4 (dataset with aggregation and no outliers), the average score is 0.9364043455814685\n",
      "\n",
      "So, out of all the test results, DR4 (with 2 extra aggregated columns and outliers removed) did the best (it had the highest average score, yay). That means that it is the best method to use for our final test:\n",
      "Final Test with test data (Method DR4)\n",
      "The score of the final test is 0.9408177905308465\n"
     ]
    }
   ],
   "source": [
    "#We start by splitting the dataset (cleanStroke) into 3 groups. We do this before the feature encoding because once we group our numeric attributes into categories, we lose our outlier/summing work\n",
    "#Assign 30% of the set to testing, 70% to the temporary set\n",
    "testSet, trainSet = train_test_split(cleanStroke, test_size=0.3, random_state=42)\n",
    "\n",
    "#We need to prepare for our 4-fold cross-validation:\n",
    "kf = KFold(n_splits=4, shuffle=True, random_state=42)\n",
    "\n",
    "#Next, we want to do all our tests. First, we do DR1 (original dataset). Since no further modifications must be done, we can do feature encoding now\n",
    "DR1Set = trainSet.copy()\n",
    "encodeFeatures(DR1Set)\n",
    "\n",
    "average = 0\n",
    "count = 1\n",
    "print(\"DR1 - Original Dataset:\")\n",
    "# Performing the 4-fold split\n",
    "for fold, (train_index, val_index) in enumerate(kf.split(DR1Set), 1):\n",
    "    score = createDecisionTree(DR1Set.iloc[train_index], DR1Set.iloc[val_index], \"stroke\")\n",
    "    average += score\n",
    "    print(\"Test\", count, \":\", score)\n",
    "    count+=1\n",
    "average = average/4\n",
    "\n",
    "print(\"After doing a 4-fold cross-validation of DR1 (the original dataset), the average score is\", average)\n",
    "\n",
    "#Next, we do DR2 (without outlier)\n",
    "DR2Set = trainSet.copy()\n",
    "#Remove outliers\n",
    "DR2Set = removeOutliers(DR2Set)\n",
    "encodeFeatures(DR2Set)\n",
    "\n",
    "average = 0\n",
    "count = 1\n",
    "print(\"\\nDR2 - Outlier Removal:\")\n",
    "# Performing the 4-fold split\n",
    "for fold, (train_index, val_index) in enumerate(kf.split(DR2Set), 1):\n",
    "    score = createDecisionTree(DR2Set.iloc[train_index], DR2Set.iloc[val_index], \"stroke\")\n",
    "    average += score\n",
    "    print(\"Test\", count, \":\", score)\n",
    "    count+=1\n",
    "average = average/4\n",
    "\n",
    "print(\"After doing a 4-fold cross-validation of DR2 (the dataset without outliers), the average score is\", average)\n",
    "\n",
    "#Next, we do DR3 (with aggregation)\n",
    "DR3Set = trainSet.copy()\n",
    "#Add aggregation\n",
    "DR3Set = createNewFeatures(DR3Set)\n",
    "encodeFeatures(DR3Set)\n",
    "\n",
    "average = 0\n",
    "count = 1\n",
    "print(\"\\nDR3 - Has Aggregation:\")\n",
    "# Performing the 4-fold split\n",
    "for fold, (train_index, val_index) in enumerate(kf.split(DR3Set), 1):\n",
    "    score = createDecisionTree(DR3Set.iloc[train_index], DR3Set.iloc[val_index], \"stroke\")\n",
    "    average += score\n",
    "    print(\"Test\", count, \":\", score)\n",
    "    count+=1\n",
    "average = average/4\n",
    "\n",
    "print(\"After doing a 4-fold cross-validation of DR3 (dataset with aggregation), the average score is\", average)\n",
    "\n",
    "#Finally we do DR4 with both aggregation and no outliers\n",
    "DR4Set = trainSet.copy()\n",
    "#Remove outliers\n",
    "DR4Set = removeOutliers(DR4Set)\n",
    "#Add aggregation\n",
    "DR4Set = createNewFeatures(DR4Set)\n",
    "encodeFeatures(DR4Set)\n",
    "\n",
    "average = 0\n",
    "count = 1\n",
    "print(\"\\nDR4 - Has Aggregation and no outliers:\")\n",
    "# Performing the 4-fold split\n",
    "for fold, (train_index, val_index) in enumerate(kf.split(DR4Set), 1):\n",
    "    score = createDecisionTree(DR4Set.iloc[train_index], DR4Set.iloc[val_index], \"stroke\")\n",
    "    average += score\n",
    "    print(\"Test\", count, \":\", score)\n",
    "    count+=1\n",
    "average = average/4\n",
    "\n",
    "print(\"After doing a 4-fold cross-validation of DR4 (dataset with aggregation and no outliers), the average score is\", average)\n",
    "\n",
    "print(\"\\nSo, out of all the test results, DR4 (with 2 extra aggregated columns and outliers removed) did the best (it had the highest average score, yay). That means that it is the best method to use for our final test:\")\n",
    "\n",
    "print(\"Final Test with test data (Method DR4)\")\n",
    "finalTest = trainSet.copy()\n",
    "finalTest= removeOutliers(finalTest)\n",
    "finalTest = createNewFeatures(finalTest)\n",
    "encodeFeatures(finalTest)\n",
    "\n",
    "testSet= removeOutliers(testSet)\n",
    "testSet = createNewFeatures(testSet)\n",
    "encodeFeatures(testSet)\n",
    "\n",
    "score = createDecisionTree(finalTest, testSet, \"stroke\")\n",
    "print(\"The score of the final test is\", score)\n",
    "\n"
   ]
  },
  {
   "cell_type": "markdown",
   "id": "d3cf54d3-11af-4b62-b2fb-7ba388cb6944",
   "metadata": {},
   "source": [
    "Part g: Result Analysis<br>\n",
    "a) As seen above, we could see an increase in performance between the performance of the original dataset (DR1) and the dataset with the outliers removed (DR2) by approx 0.017, then again between the one with the outliers removed (DR2) and the one with aggregated columns (DR3) by approx 0.004, and finally between DR3 and the set with the aggregated columns and outliers removed (DR4) by approx 0.001. This means that DR4 is the best approach (though it should be noted that it is only by a very small amount).<br><br>\n",
    "b) Seeing as all 3 tests that include outlier removal and/or aggregation do better than the original dataset (by at least 0.017), it's clear that they have a positive result on the outcome. We can see that aggregation has a slightly better impact than just outlier removal (probably because aggregated columns were created specifically to aid the prediction), but we can really see that they make a good impact by the way that DR4 is the best method. They both show significant improvement on their own, but the fact that they do the best together proves that this improvement is causation and not just correlation. In the case of the outliers, this is probably because these extreme values add noise to the prediction, requiring the tree to unnecessarily create further branches that might mess with past routes (which would work better for the more common values). For aggregation, since we created these columns knowing that they would help the prediction in the end, it is not much of a surprise that they succeeded.<br><br>\n",
    "c) The results of the final test are pretty on par with the expectations created by the original 4 tests. The result is better than the all the methods attempted (including the 3 discarded ones) and is only slightly better than the average test scores of the chosen method (0.004 improvement). If we look at the final result in comparison to the individual tests of the 4-fold cross-validations, we see that the final result is better than any of the tests for methods DR1-DR3, but it is within the range of the results for DR4. This proves that the noted improvement between the methods is real and that we truly chose the best validation method for our final result. The result being as expected also proves that our prediction model is working well, with its score values being consistent and not random spit out values."
   ]
  },
  {
   "cell_type": "markdown",
   "id": "730c560c-24ac-40ca-85d5-b606897731f3",
   "metadata": {},
   "source": [
    "# Conclusion\n",
    "In this notebook, we perfored a classification emperical study by creating and training a decision tree model. We performed multiple 4-fold cross-validation tests with different requirements added in and discovered that the best prediction set had both the removal of its outliers and additional aggregated columns. We managed to confirm this discovery with a successful final test on test data that we put aside and left untouched. We gained valuable experience with the tasks of data cleaning, outlier detection and predictive analysis. The results to all our tests in this assignment were satisfactory and as expected."
   ]
  },
  {
   "cell_type": "markdown",
   "id": "e0308cd2-f814-4366-9a90-415c8b719b9d",
   "metadata": {},
   "source": [
    "# References\n",
    "- BMI bins: https://www.canada.ca/en/health-canada/services/food-nutrition/healthy-eating/healthy-weights/canadian-guidelines-body-weight-classification-adults/body-mass-index-nomogram.html\n",
    "- Glucose bins: https://www.diabetes.co.uk/diabetes_care/blood-sugar-level-ranges.html\n",
    "- LOF documentation: https://scikit-learn.org/stable/modules/generated/sklearn.neighbors.LocalOutlierFactor.html\n",
    "- Decision Tree documentation: https://lightgbm.readthedocs.io/en/latest/pythonapi/lightgbm.LGBMClassifier.html\n",
    "\n",
    "ChatGPT:\n",
    "- Help splitting up dataset:\n",
    "   ```python\n",
    "    # First, split into training set (60%) and temporary set (40%)\n",
    "    X_train, X_temp = train_test_split(df, test_size=0.4, random_state=42)\n",
    "    ```\n",
    "   and\n",
    "  ```python\n",
    "  # Define 4-fold cross-validation\n",
    "    kf = KFold(n_splits=4, shuffle=True, random_state=42)\n",
    "\n",
    "    # Performing the 4-fold split\n",
    "    for fold, (train_index, val_index) in enumerate(kf.split(df), 1):\n",
    "    ```"
   ]
  },
  {
   "cell_type": "code",
   "execution_count": null,
   "id": "b93b1611-f9d5-473e-bb82-c486aedcdc95",
   "metadata": {},
   "outputs": [],
   "source": []
  }
 ],
 "metadata": {
  "kernelspec": {
   "display_name": "Python 3 (ipykernel)",
   "language": "python",
   "name": "python3"
  },
  "language_info": {
   "codemirror_mode": {
    "name": "ipython",
    "version": 3
   },
   "file_extension": ".py",
   "mimetype": "text/x-python",
   "name": "python",
   "nbconvert_exporter": "python",
   "pygments_lexer": "ipython3",
   "version": "3.13.1"
  }
 },
 "nbformat": 4,
 "nbformat_minor": 5
}
