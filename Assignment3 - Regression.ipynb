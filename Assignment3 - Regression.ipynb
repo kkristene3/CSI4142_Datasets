{
 "cells": [
  {
   "cell_type": "markdown",
   "id": "c292146a-7cd7-4430-a2f2-930e354ac580",
   "metadata": {},
   "source": [
    "<h1 style=\"text-align:center;\"><a href=\"https://www.kaggle.com/datasets/denkuznetz/housing-prices-regression\">Dataset 1 (housing prices)</a></h1>"
   ]
  },
  {
   "cell_type": "markdown",
   "id": "871ae747-5aa5-4efb-8622-bd6098134a45",
   "metadata": {},
   "source": [
    "Group Number: #127\n",
    "<br>\n",
    "Names: Alex Oprea, Kristen Duong\n",
    "<br>\n",
    "Student Numbers: 300230368, 300240425"
   ]
  },
  {
   "cell_type": "markdown",
   "id": "6421763d-3457-4c3e-bed0-eec6e79e5358",
   "metadata": {},
   "source": [
    "# INTRODUCTION\n",
    "\n",
    "This notebook will perform an empirical study using a linear regression model to predict housing prices. The dataset being used for the study in part (f) will be one-hot encoded. After conducting the empirical study we will compare the results of each of our experiments (i.e. our encoded dataset with/without outliers and with/without aggregation) to determine which experiment was best at predicting the price of a property.\n",
    "\n",
    "To use the notebook, click the \"Run All Cells\" button (i.e., run all cells in the order that they are written in). Also ensure that you have Pandas, Numpy, Seaborn, Matplotlib, and scikit-learn installed."
   ]
  },
  {
   "cell_type": "markdown",
   "id": "0fb9d0fc-0a1c-47ef-8930-c0682088b1dd",
   "metadata": {},
   "source": [
    "# DESCRIPTION"
   ]
  },
  {
   "cell_type": "markdown",
   "id": "2182541e-06c4-4b47-83ec-8249c4198bac",
   "metadata": {},
   "source": [
    "<i>Dataset name:</i> Housing Prices Regression 🏘️\n",
    "<br>\n",
    "<i>Author:</i> Den Kuznetz\n",
    "<br>\n",
    "<i>Purpose:</i> This dataset is to be used to build a regression model and predict property housing prices. This is done by using the other features in the dataset as inputs. The model built should be able to take the relationship between these inputs and what is to be predicted (Price) and provide an accurate prediction for the unseen price data.\n",
    "<br>\n",
    "<i>Domain:</i> Real Estate Industry \n",
    "<br>\n",
    "<i>Audience:</i> Housing realtors and people looking to buy a new home may gain insight into the housing market through this dataset. Those interested in machine learning and regression analysis may also find it useful as they can use it to learn how to build good predictive models.\n",
    "<br>\n",
    "<i>Shape:</i> 503 rows, 12 columns"
   ]
  },
  {
   "cell_type": "markdown",
   "id": "ef3587ee-f971-4b02-86b3-ad777f647eac",
   "metadata": {},
   "source": [
    "<i>Categorical Attributes:</i>\n",
    "- Num_Bedrooms: The number of bedrooms in the property\n",
    "- Num_Bathrooms: The number of bathrooms in the property\n",
    "- Num_Floors: The number of floors in the property\n",
    "- Has_Garden: Yes, if the property has a garden (1) or no, if the property doesn`t have a garden (0)\n",
    "- Has_Pool: Yes, if the property has a pool (1) or no, if the property doesn`t have a pool (0)\n",
    "\n",
    "<i>Numerical Attributes:</i>\n",
    "- Square_Feet: The property`s area measured in square meters\n",
    "- Year_Built: The year when the property was built\n",
    "- Garage_Size: The garage size measured in square meters\n",
    "- Location_Score: The quality of the neigbourhood, scored from 0 to 10 (higher scores indicate a better neighbourhood)\n",
    "- Distance_to_Center: The distance from the property to the city center, measured in kilometers\n",
    "- Price: The target price of the property (value to predict)\n",
    "\n"
   ]
  },
  {
   "cell_type": "markdown",
   "id": "149cc326-2689-491b-93dd-885672e5e302",
   "metadata": {},
   "source": [
    "## SET UP"
   ]
  },
  {
   "cell_type": "code",
   "execution_count": 460,
   "id": "e53e0b71-c02e-424e-99d6-276c974d5a48",
   "metadata": {},
   "outputs": [],
   "source": [
    "# Import libraries\n",
    "import pandas as pd\n",
    "import numpy as np\n",
    "import seaborn as sns\n",
    "import matplotlib.pyplot as plt\n",
    "from sklearn.neighbors import LocalOutlierFactor\n",
    "from sklearn.model_selection import train_test_split\n",
    "from sklearn.model_selection import KFold\n",
    "from sklearn.model_selection import cross_val_score \n",
    "from sklearn.linear_model import ElasticNet\n",
    "\n",
    "# load csv files from github\n",
    "housing = pd.read_csv('https://raw.githubusercontent.com/kkristene3/CSI4142_Datasets/refs/heads/main/real_estate_dataset.csv')"
   ]
  },
  {
   "cell_type": "markdown",
   "id": "f34a7ea5-745d-40ca-8c65-55593424d4f9",
   "metadata": {},
   "source": [
    "## (a) clean dataset"
   ]
  },
  {
   "cell_type": "code",
   "execution_count": 461,
   "id": "079c58c6-ebe0-45ab-9c4b-0401f8d973f9",
   "metadata": {},
   "outputs": [
    {
     "name": "stdout",
     "output_type": "stream",
     "text": [
      "Cleaning Dataset Outcome:\n",
      "Data Type Check: Pass\n",
      "Range Checker: Pass\n",
      "Format Checker:  No Formats needed to be checked.\n",
      "Consistency Check: N/A, as we do not have enough domain knowledge to know what is an acceptable value for one attribute, given another attribute.\n",
      "Uniqueness Checker: There are duplicates in ID!\n",
      "Presence Check: Pass\n",
      "Length Checker: Pass\n",
      "Look-up Checker: Given that all values are either int or float, they do not have a limited set of values that can be written in their cell.\n",
      "Exact Duplicates Checker: Pass\n",
      "Near Duplicates: Will not check for near duplicates as it is possible to have multiple properties closely located. If there are homes near each other (same neighbourhood), it is possible to have similar pricing, similar distancing and location score (geographically in same neighbourhood), same year built (if all homes in neighbourhood were built at same time) and similar housing layouts (number of bedrooms, bathrooms, and sizing).\n"
     ]
    }
   ],
   "source": [
    "print(\"Cleaning Dataset Outcome:\")\n",
    "# -------------------------------------------------------------- DATA TYPE CHECKER --------------------------------------------------------------\n",
    "# the expected data types for each attribute\n",
    "expected_types = {\n",
    "    'Square_Feet': float,\n",
    "    'Num_Bedrooms': int,\n",
    "    'Num_Bathrooms': int,\n",
    "    'Num_Floors': int,\n",
    "    'Year_Built': int,\n",
    "    'Has_Garden': int,\n",
    "    'Has_Pool': int,\n",
    "    'Garage_Size': int,\n",
    "    'Location_Score': float,\n",
    "    'Distance_to_Center': float,\n",
    "    'Price': float\n",
    "}\n",
    "\n",
    "# check each column that it is correct data type\n",
    "all_correct = all(\n",
    "    housing[column].apply(lambda x: isinstance(x, dtype)).all()\n",
    "    for column, dtype in expected_types.items()\n",
    ")\n",
    "\n",
    "# Print result\n",
    "if not all_correct:\n",
    "    print(False)\n",
    "else:\n",
    "    print(\"Data Type Check: Pass\")\n",
    "\n",
    "# -------------------------------------------------------------- RANGE CHECKER --------------------------------------------------------------\n",
    "# we will ensure that none of the numerical values are negative\n",
    "# columns to check\n",
    "num_cols = [\"Square_Feet\", \"Year_Built\", \"Garage_Size\", \"Location_Score\", \"Distance_to_Center\", \"Price\"]\n",
    "found_negatives = False # boolean if negatives in any column are found\n",
    "\n",
    "# loop through the columns to check for any negatives\n",
    "for col in num_cols:\n",
    "    # track index if the value is negative\n",
    "    indices = housing[housing[col] < 0].index\n",
    "\n",
    "    # if indices array is not empty (found a negative value), print message\n",
    "    if not indices.empty:\n",
    "        print(\"Column\", col, \"has negative values at index\", indices.tolist())\n",
    "        found_negatives = True # change boolean to flag that a negative was found\n",
    "        \n",
    "# if no negatives, checker passed\n",
    "if not found_negatives:\n",
    "    print(\"Range Checker: Pass\")\n",
    "\n",
    "# --------------------------------------------------------- FORMAT CHECKER (no formats needed to be checked) ---------------------------------------------------------\n",
    "print(\"Format Checker:  No Formats needed to be checked.\")\n",
    "\n",
    "# -------------------------------------------------------------- CONSISTENCY CHECKER --------------------------------------------------------------\n",
    "print(\"Consistency Check: N/A, as we do not have enough domain knowledge to know what is an acceptable value for one attribute,\"\n",
    "      \" given another attribute.\")\n",
    "\n",
    "# -------------------------------------------------------------- UNIQUENESS CHECKER --------------------------------------------------------------\n",
    "# attributes that must have unique values: ID\n",
    "noDuplicates = 0\n",
    "\n",
    "# check all values in ID column for any duplicates, print message based on result\n",
    "if housing[\"ID\"].duplicated().any():\n",
    "    print(\"Uniqueness Checker: There are duplicates in ID!\")\n",
    "else:\n",
    "    print(\"Uniqueness Checker: Pass\")\n",
    "\n",
    "# -------------------------------------------------------------- PRESENCE CHECKER --------------------------------------------------------------\n",
    "# sum up the number of null values in each column\n",
    "missing_values = housing.isnull().sum()\n",
    "\n",
    "# print results\n",
    "if missing_values.any():\n",
    "    print(missing_values[missing_values > 0])\n",
    "else:\n",
    "    print(\"Presence Check: Pass\")\n",
    "\n",
    "# -------------------------------------------------------------- LENGTH CHECKER --------------------------------------------------------------\n",
    "# check that the years are 4 digits\n",
    "years_length = 4\n",
    "\n",
    "# check years string length\n",
    "invalid_years = housing[housing[\"Year_Built\"].astype(str).str.len() != 4]\n",
    "\n",
    "# output result\n",
    "if len(invalid_years) != 0:\n",
    "    print(\"Year_Built are of invalid length:\", invalid_years)\n",
    "else:\n",
    "    print(\"Length Checker: Pass\")\n",
    "\n",
    "# -------------------------------------------------------------- LOOK UP CHECKER --------------------------------------------------------------\n",
    "print(\"Look-up Checker: Given that all values are either int or float, they do not have a limited set of values that can be written in their cell.\")\n",
    "\n",
    "# ----------------------------------------------------------- EXACT DUPLICATES CHECKER -----------------------------------------------------------\n",
    "# find any duplicates\n",
    "duplicates = housing[housing.duplicated(subset=housing.columns.difference([\"ID\"]), keep=False)]\n",
    "\n",
    "# check length of duplicates array to see if any were found in the dataset\n",
    "if len(duplicates) != 0:\n",
    "    print(\"There are duplicates!\")\n",
    "else:\n",
    "    print(\"Exact Duplicates Checker: Pass\")\n",
    "\n",
    "# ----------------------------------------------------------- NEAR DUPLICATES CHECKER -----------------------------------------------------------\n",
    "print(\"Near Duplicates: Will not check for near duplicates as it is possible to have multiple properties closely located. If there are homes near each other (same neighbourhood), \"\n",
    "      \"it is possible to have similar pricing, similar distancing and location score (geographically in same neighbourhood), same year built \"\n",
    "      \"(if all homes in neighbourhood were built at same time) and similar housing layouts (number of bedrooms, bathrooms, and sizing).\")"
   ]
  },
  {
   "cell_type": "markdown",
   "id": "0a02c33b-c820-40d2-a952-1ebb89e79b8b",
   "metadata": {},
   "source": [
    "## (b) categorical feature encoding"
   ]
  },
  {
   "cell_type": "code",
   "execution_count": 462,
   "id": "c2a848d4-a339-4077-9d42-f7808f58f89f",
   "metadata": {},
   "outputs": [
    {
     "name": "stdout",
     "output_type": "stream",
     "text": [
      "   ID  Square_Feet  Year_Built  Has_Garden  Has_Pool  Garage_Size  \\\n",
      "0   1          143        1967           1         1           48   \n",
      "1   2          287        1949           0         1           37   \n",
      "2   3          232        1923           1         0           14   \n",
      "3   4          199        1918           0         0           17   \n",
      "4   5           89        1999           1         0           34   \n",
      "\n",
      "   Location_Score  Distance_to_Center   Price  Num_Bedrooms_1  Num_Bedrooms_2  \\\n",
      "0               8                   5  602134               1               0   \n",
      "1               6                  10  591425               1               0   \n",
      "2               2                   6  464478               1               0   \n",
      "3               2                   8  583105               0               0   \n",
      "4               1                  14  619879               0               0   \n",
      "\n",
      "   Num_Bedrooms_3  Num_Bedrooms_4  Num_Bedrooms_5  Num_Bathrooms_1  \\\n",
      "0               0               0               0                0   \n",
      "1               0               0               0                0   \n",
      "2               0               0               0                0   \n",
      "3               0               0               1                0   \n",
      "4               0               1               0                0   \n",
      "\n",
      "   Num_Bathrooms_2  Num_Bathrooms_3  Num_Floors_1  Num_Floors_2  Num_Floors_3  \n",
      "0                0                1             0             0             1  \n",
      "1                1                0             1             0             0  \n",
      "2                0                1             0             1             0  \n",
      "3                1                0             0             1             0  \n",
      "4                0                1             0             0             1  \n"
     ]
    }
   ],
   "source": [
    "# the categorical attributes (exclude binary attributes)\n",
    "categoricals = ['Num_Bedrooms', 'Num_Bathrooms', 'Num_Floors']\n",
    "\n",
    "# apply one-hot encoding (show as 0/1 int instead of True/False)\n",
    "one_hot_encoded = pd.get_dummies(housing, columns=categoricals).astype(int)\n",
    "\n",
    "# print\n",
    "print(one_hot_encoded.head())"
   ]
  },
  {
   "cell_type": "markdown",
   "id": "2db3c893-27dc-4423-9b56-b2bc97ecddc5",
   "metadata": {},
   "source": [
    "## (c) EDA and Outlier Detection"
   ]
  },
  {
   "cell_type": "code",
   "execution_count": 463,
   "id": "b4373c10-d5b2-4e03-b776-5b0a36e9f39c",
   "metadata": {},
   "outputs": [
    {
     "data": {
      "image/png": "[encoded data removed]",
      "text/plain": [
       "<Figure size 1500x1200 with 9 Axes>"
      ]
     },
     "metadata": {},
     "output_type": "display_data"
    }
   ],
   "source": [
    "# ------------------------------------------- (ii) EDA to visualize data -------------------------------------------\n",
    "# outliers were added to Square_Feet attribute\n",
    "\n",
    "# ignore attributes with binary values; also ignore ID column and Price\n",
    "housing_cols = housing.drop(columns=[\"ID\", \"Has_Garden\", \"Has_Pool\", \"Price\"], errors=\"ignore\")\n",
    "\n",
    "# calculate number of rows needed to display all attributes\n",
    "num_features = len(housing_cols.columns)\n",
    "num_rows = (num_features // 3) + (num_features % 3 > 0)\n",
    "\n",
    "# create each sub boxplot\n",
    "fig, ax = plt.subplots(nrows=num_rows, ncols=3, figsize=(15, num_rows * 4))\n",
    "ax = ax.flatten()\n",
    "\n",
    "# plot each attribute's boxplot\n",
    "for i, col in enumerate(housing_cols.columns):\n",
    "    sns.boxplot(y=housing_cols[col], ax=ax[i])\n",
    "    axes[i].set_title(col)\n",
    "\n",
    "# title of figure\n",
    "fig.suptitle(\"Boxplot for Non-Binary Attributes\")\n",
    "\n",
    "# show plot\n",
    "plt.show()\n"
   ]
  },
  {
   "cell_type": "code",
   "execution_count": 464,
   "id": "45c5d5e3-a625-4f3c-975c-eb93facc80fa",
   "metadata": {},
   "outputs": [
    {
     "name": "stdout",
     "output_type": "stream",
     "text": [
      "Number of Outliers detected in Square_Feet:\n",
      "101\n",
      "Dataset Size After Being Cleaned\n",
      "402\n",
      "   ID  Square_Feet  Num_Bedrooms  Num_Bathrooms  Num_Floors  Year_Built  \\\n",
      "0   1   143.635030             1              3           3        1967   \n",
      "1   2   287.678577             1              2           1        1949   \n",
      "2   3   232.998485             1              3           2        1923   \n",
      "4   5    89.004660             4              3           3        1999   \n",
      "5   6    88.998630             5              3           2        1959   \n",
      "\n",
      "   Has_Garden  Has_Pool  Garage_Size  Location_Score  Distance_to_Center  \\\n",
      "0           1         1           48        8.297631            5.935734   \n",
      "1           0         1           37        6.061466           10.827392   \n",
      "2           1         0           14        2.911442            6.904599   \n",
      "4           1         0           34        1.523278           14.648277   \n",
      "5           1         1           36        8.994552           17.633250   \n",
      "\n",
      "           Price  \n",
      "0  602134.816747  \n",
      "1  591425.135386  \n",
      "2  464478.696880  \n",
      "4  619879.142523  \n",
      "5  670386.804433  \n"
     ]
    }
   ],
   "source": [
    "# ------------------------------------------- (i) Local Outlier Factor (LOF) -------------------------------------------\n",
    "# function to find any outliers using LOF\n",
    "def outlier_detection_lof(dataset, column):\n",
    "    lof = LocalOutlierFactor(n_neighbors=20, contamination=0.2) \n",
    "    outlier_labels = lof.fit_predict(dataset[[column]]) # use the features we are not predicting\n",
    "    # get outliers based on the label (-1 indicates an outlier)\n",
    "    outliers = dataset[outlier_labels == -1]\n",
    "    # Remove outliers from the dataset\n",
    "    cleaned_dataset = dataset[outlier_labels != -1]\n",
    "    \n",
    "    return cleaned_dataset, outliers\n",
    "\n",
    "# print number of outliers detected in original dataset using lof\n",
    "cleaned_housing, outliers = outlier_detection_lof(housing, \"Square_Feet\")\n",
    "print(\"Number of Outliers detected in Square_Feet:\")\n",
    "print(len(outliers))\n",
    "\n",
    "# remove outliers\n",
    "print(\"Dataset Size After Being Cleaned\")\n",
    "print (len(cleaned_housing))\n",
    "print(cleaned_housing.head())"
   ]
  },
  {
   "cell_type": "markdown",
   "id": "77d5246e-e91a-4ae3-8c46-50daafaeaf7d",
   "metadata": {},
   "source": [
    "(iii) After doing EDA on the dataset, from the box plots, it can be seen that the Price column has an outlier. With the outlier, we will remove it since it is only one value and the price is not outrageously larger than the upper bound value. \n",
    "\n",
    "Based on the code below, the outlier was discovered on ID = 151, with a price of $960678.274291."
   ]
  },
  {
   "cell_type": "code",
   "execution_count": 465,
   "id": "b7d8c953-64a3-406d-b48b-2d35c94063f2",
   "metadata": {},
   "outputs": [
    {
     "name": "stdout",
     "output_type": "stream",
     "text": [
      "Outlier to remove:\n",
      "       ID  Square_Feet  Num_Bedrooms  Num_Bathrooms  Num_Floors  Year_Built  \\\n",
      "150  151   277.066471             5              2           3        2019   \n",
      "\n",
      "     Has_Garden  Has_Pool  Garage_Size  Location_Score  Distance_to_Center  \\\n",
      "150           1         1           30        9.037576           13.094182   \n",
      "\n",
      "             Price  \n",
      "150  960678.274291  \n"
     ]
    }
   ],
   "source": [
    "# find the row with the outlier and remove the row\n",
    "\n",
    "# calculate IQR of price\n",
    "Q1 = housing['Price'].quantile(0.25)\n",
    "Q3 = housing['Price'].quantile(0.75)\n",
    "IQR = Q3 - Q1\n",
    "\n",
    "# set bounds\n",
    "lower_bound = Q1 - 1.5 * IQR\n",
    "upper_bound = Q3 + 1.5 * IQR\n",
    "\n",
    "# find the outlier\n",
    "outlier = housing[(housing['Price'] < lower_bound) | (housing['Price'] > upper_bound)]\n",
    "\n",
    "# print\n",
    "print(\"Outlier to remove:\\n\", outlier)"
   ]
  },
  {
   "cell_type": "markdown",
   "id": "90704415-24ab-4308-889e-e0e543cfa13b",
   "metadata": {},
   "source": [
    "## (d) Predictive Analysis: Linear Regression\n",
    "\n",
    "We will use Elastic-Net regression to predict the Price attribute. We chose to use this model because it prevents overfitting and ensures that the model generalizes well toward unseen data. Another advantage of choosing this linear regression model over others was that it is useful when there are multiple correlated features. For example, in our dataset, the attribute Square_Feet can be correlated with Num_Bedrooms, Num_Bathrooms, Num_Floors, and Price. So, Elastic-Net takes into account this and shares the weight across correlated features (unlike Lasso which will pick only one feature randomly)."
   ]
  },
  {
   "cell_type": "code",
   "execution_count": 466,
   "id": "2d28e057-5cf5-45bd-96d1-0dce685cf8b3",
   "metadata": {},
   "outputs": [],
   "source": [
    "# create an ElasticNet Linear Regression Model\n",
    "def create_model(dataset):\n",
    "    model = ElasticNet(alpha=0.1, l1_ratio=0.5) \n",
    "    model.fit( dataset.drop(columns=[\"Price\"]), dataset[\"Price\"])\n",
    "    return model\n"
   ]
  },
  {
   "cell_type": "markdown",
   "id": "daec1df8-68a3-49c9-a69b-331645fa8c1e",
   "metadata": {},
   "source": [
    "## (e) Feature Engineering"
   ]
  },
  {
   "cell_type": "code",
   "execution_count": 467,
   "id": "6b22f1f8-350f-4e84-b79e-4989d1618751",
   "metadata": {},
   "outputs": [
    {
     "name": "stdout",
     "output_type": "stream",
     "text": [
      "Housing Dataset with Price Per Square Foot and Total Number of Rooms:\n",
      "   ID  Square_Feet  Num_Bedrooms  Num_Bathrooms  Num_Floors  Year_Built  \\\n",
      "0   1   143.635030             1              3           3        1967   \n",
      "1   2   287.678577             1              2           1        1949   \n",
      "2   3   232.998485             1              3           2        1923   \n",
      "3   4   199.664621             5              2           2        1918   \n",
      "4   5    89.004660             4              3           3        1999   \n",
      "\n",
      "   Has_Garden  Has_Pool  Garage_Size  Location_Score  Distance_to_Center  \\\n",
      "0           1         1           48        8.297631            5.935734   \n",
      "1           0         1           37        6.061466           10.827392   \n",
      "2           1         0           14        2.911442            6.904599   \n",
      "3           0         0           17        2.070949            8.284019   \n",
      "4           1         0           34        1.523278           14.648277   \n",
      "\n",
      "           Price  Price_Per_Square_Foot  Total_Rooms  \n",
      "0  602134.816747            4192.116770            4  \n",
      "1  591425.135386            2055.853941            3  \n",
      "2  464478.696880            1993.483760            4  \n",
      "3  583105.655996            2920.425526            7  \n",
      "4  619879.142523            6964.569515            7  \n"
     ]
    }
   ],
   "source": [
    "# (a) create 2 additional features\n",
    "'''\n",
    "Features To Be Created: \n",
    "    - ratio: price per square feet = price / square feet\n",
    "    - addition: total number of rooms in house = num_bedrooms + num_bathrooms\n",
    "'''\n",
    "\n",
    "# add the two new features to dataset\n",
    "housing[\"Price_Per_Square_Foot\"] = housing['Price'] / housing['Square_Feet']\n",
    "housing[\"Total_Rooms\"] = housing[\"Num_Bedrooms\"] + housing[\"Num_Bathrooms\"]\n",
    "\n",
    "# output dataset with new features\n",
    "print(\"Housing Dataset with Price Per Square Foot and Total Number of Rooms:\")\n",
    "print(housing.head())\n"
   ]
  },
  {
   "cell_type": "markdown",
   "id": "4c3fa005-0480-422d-b8e2-1e261c905b71",
   "metadata": {},
   "source": [
    "## (f) Empirical Study"
   ]
  },
  {
   "cell_type": "code",
   "execution_count": 468,
   "id": "0e38b99b-bf94-41b1-b348-241b0ef0db03",
   "metadata": {},
   "outputs": [
    {
     "name": "stdout",
     "output_type": "stream",
     "text": [
      "Experiment Results:\n",
      "Experiment 1 (DR1 - with outliers and without aggregation):\n",
      "R² Score for each fold: [np.float64(0.8941), np.float64(0.9546), np.float64(0.8864), np.float64(0.9473)]\n",
      "Average R² across 4 folds: 0.92\n",
      "\n",
      "Experiment 2 (DR2 - without outliers and without aggregation):\n",
      "R² Score for each fold: [np.float64(0.9615), np.float64(0.9482), np.float64(0.9522), np.float64(0.9483)]\n",
      "Average R² across 4 folds: 0.95\n",
      "\n",
      "Experiment 3 (DR3 - with outliers and with aggregation):\n",
      "R² Score for each fold: [np.float64(0.9213), np.float64(0.9679), np.float64(0.8807), np.float64(0.9687)]\n",
      "Average R² across 4 folds: 0.93\n",
      "\n",
      "Experiment 4 (DR4 - without outliers and with aggregation):\n",
      "R² Score for each fold: [np.float64(0.975), np.float64(0.9744), np.float64(0.9702), np.float64(0.9663)]\n",
      "Average R² across 4 folds: 0.97\n"
     ]
    }
   ],
   "source": [
    "# copy housing into D = the full training set cleaned and encoded\n",
    "D = one_hot_encoded.copy()\n",
    "\n",
    "# HELPER METHODS\n",
    "# used to aggregate for DR3 and DR4\n",
    "def features(DRX):\n",
    "    # price per square foot (replace value with NaN if price was an outlier)\n",
    "    DRX[\"Price_Per_Square_Foot\"] = DRX[\"Price\"] / DRX[\"Square_Feet\"]\n",
    "    \n",
    "    # total number of rooms\n",
    "    bedroom_columns = [col for col in DRX.columns if 'Num_Bedrooms' in col]\n",
    "    bathroom_columns = [col for col in DRX.columns if 'Num_Bathrooms' in col]\n",
    "    \n",
    "    DRX[\"Total_Rooms\"] = sum(DRX[col] * int(col.split('_')[-1]) for col in bedroom_columns) + \\\n",
    "                          sum(DRX[col] * int(col.split('_')[-1]) for col in bathroom_columns)\n",
    "        \n",
    "# used to perform cross-validation, calculate average R2 score, and display the results\n",
    "def cross_vals(DRX, model, kf):\n",
    "    scores = cross_val_score(model, DRX.drop(columns=[\"Price\"]), DRX[\"Price\"], cv=kf)\n",
    "    average_r2  = np.mean(scores)\n",
    "\n",
    "    print(f\"R² Score for each fold: {[round(score, 4) for score in scores]}\")\n",
    "    print(f\"Average R² across {k} folds: {average_r2 :.2f}\")\n",
    "\n",
    "# ------------------------------------- (a) split data into DR (80% of D) and DT (20% of D) -------------------------------------\n",
    "DR, DT = train_test_split(D, test_size=0.2, random_state=42)\n",
    "\n",
    "# ------------------------------------- (b) we will run 4 experiments (with/without outliers and with/without aggregation) -------------------------------------\n",
    "# no alterations on D1 (with outliers and without aggregation)\n",
    "DR1 = DR.copy()\n",
    "\n",
    "# alter D2 (without outliers and without aggregation)\n",
    "DR2 = DR.copy() \n",
    "DR2, outliers = outlier_detection_lof(DR, \"Square_Feet\")  # get outliers\n",
    "DR2 = DR.drop(outliers.index)  # keep only non-outliers in D2\n",
    "\n",
    "# alter D3 (with outliers and with aggregation)\n",
    "DR3 = DR.copy()\n",
    "features(DR3)\n",
    "\n",
    "# alter D4 (without outliers and with aggregation)\n",
    "DR4 = DR2.copy() \n",
    "features(DR4)\n",
    "\n",
    "# ------------------------------------- (c)/(d) 4-fold-cross-validation -------------------------------------\n",
    "# set up the 4-folds\n",
    "k = 4\n",
    "kf = KFold(n_splits=k, shuffle=True, random_state=42)\n",
    "\n",
    "# create elastic net regression model\n",
    "model = create_model(DR)\n",
    "\n",
    "# Perform cross-validation for each experiment (DR1 to DR4)\n",
    "print(\"Experiment Results:\")\n",
    "print(\"Experiment 1 (DR1 - with outliers and without aggregation):\")\n",
    "cross_vals(DR1, model, kf)\n",
    "\n",
    "print(\"\\nExperiment 2 (DR2 - without outliers and without aggregation):\")\n",
    "cross_vals(DR2, model, kf)\n",
    "\n",
    "print(\"\\nExperiment 3 (DR3 - with outliers and with aggregation):\")\n",
    "cross_vals(DR3, model, kf)\n",
    "\n",
    "print(\"\\nExperiment 4 (DR4 - without outliers and with aggregation):\")\n",
    "cross_vals(DR4, model, kf)\n"
   ]
  },
  {
   "cell_type": "markdown",
   "id": "47a530e3-80ed-46c8-92c3-aac08f2a8d69",
   "metadata": {},
   "source": [
    "(d) Based on the four experiments, Experiment 4 resulted in the highest average R² value across the 4 folds. This indicates that the system without outliers and aggregation is the best fit. Since the R² value was the closest to 1 (or 100%), this suggests that this model was the most accurate at predicting the dependent variable (Price)."
   ]
  },
  {
   "cell_type": "code",
   "execution_count": 469,
   "id": "b6f61a4e-63be-4505-aebf-3001e5a7c102",
   "metadata": {},
   "outputs": [
    {
     "name": "stdout",
     "output_type": "stream",
     "text": [
      "Test R² Score: 0.9415028050436673\n"
     ]
    }
   ],
   "source": [
    "# (e) decide on final system (based on experiment 4)\n",
    "\n",
    "# set up best system on DR4\n",
    "best_model = create_model(DR4)\n",
    "\n",
    "# apply the same alterations on DR4 to DT\n",
    "DT_cleaned, dt_outliers = outlier_detection_lof(DT, 'Square_Feet') \n",
    "features(DT) # aggregate\n",
    "\n",
    "# predict on DT\n",
    "X_test = DT.drop(columns=[\"Price\"])  # use features to predict Price attribute\n",
    "y_pred = best_model.predict(X_test) # predict price\n",
    "\n",
    "# actual price values\n",
    "y_true = DT[\"Price\"]\n",
    "\n",
    "# evaluate model (calculate R²)\n",
    "score = best_model.score(X_test, y_true)\n",
    "print(\"Test R² Score:\", score)\n"
   ]
  },
  {
   "cell_type": "markdown",
   "id": "4ef88d6e-d853-414f-ae6e-a0c5f902e903",
   "metadata": {},
   "source": [
    "## (g) Result Analysis\n",
    "\n",
    "(a) Based on the obtained results from each experiment, it can be seen that Experiment 4 had the highest average score. This indicated that using the dataset without outliers and with aggregation was the best at predicting Price. Through each setting, we found that removing outliers alone (DR2), improved performance from 0.92 to 0.95. The same can be said for DR4 compared to DR3. Just by removing outliers, we were able to improve performance by 0.04. These findings suggest that outlier removal has a more significant impact than feature aggregation alone (since including aggregation only improved the performance slightly, ~0.01 to ~0.02). So, while each setting resulted in a high average R², Experiment 4 came closest to 1. Thus making it the best system to use in part (e).\n",
    "\n",
    "(b) When comparing the effects of outlier detection on each set, we found that wihtout outliers, they resulted in a higher performance score compared to their relative model (the model with/without aggregation). This is seen when we compare the results of Experiment 1 with Experiment 2. Both did not use aggregation, but the experiment that removed outliers had a higher R² (by 0.03). Likewise, Experiment 4 performed better than Experiment 3. With their only difference being that Experiment 4 removed outliers and had an average R² higher by 0.04.\n",
    "\n",
    "In terms of aggregation, we found that feature aggregation improved the R² averages by around 0.01-0.02. This could be because the total rooms feature gave the model more insight into the size of the property and the price per square foot helped provide a more relative measure of the Price since it normalized the property price by the size of the property. Therefore, adding aggregation, combined with outlier removal, helped the model predict a more accurate Price value.\n",
    "\n",
    "(c) Based on the obtained analysis, after evaluating how the model chosen (we chose to model from Experiment 4) performed on the test set, it received a test R² score of approximately 0.94. This means that the model was good at predicting the Price values from the unseen data (since score was close to 1). We also found that the test R² score we calculated is close to the average R² score we got from doing cross-validation in Experiment 3, indicating once again that the model performed well at predicting (difference of ~0.03). Since the results on the unseen test set are consistent with the cross-validation results, this means that our model was successfully trained (it generalizes well) and does not overfit.\n"
   ]
  },
  {
   "cell_type": "markdown",
   "id": "2fcc497e-c228-4483-9b59-feefe98727dc",
   "metadata": {},
   "source": [
    "# CONCLUSION\n",
    "\n",
    "From this assignment, we were able to use a linear regression model, train it by performing 4-fold cross-validation, and from that, use the best system to predict housing Prices. From our empirical study, we learned that the dataset without outliers and aggregation had the best predictions. This assignment also allowed us to refresh our skills in cleaning data, learn how to one-hot encode to transform categorical features into numerical features, explore how you can detect outliers using Local Outlier Factor (and what you can do with them) and EDA (visualization), and creating new features (aggregation). Within this assignment, we could have added more features for the model to use. For example, we could have introduced a new feature that multiplied the Price with Location_Score. The resulting value could have given us a measure of how the quality of a neighbourhood contributes to the price of a property. As a result, we could have improved our model to better predict prices. However, since our final system performed well with a high test R² score, the two new features were sufficient at this time."
   ]
  },
  {
   "cell_type": "markdown",
   "id": "cf87beb4-c2b4-454d-8ab4-8657e8248507",
   "metadata": {},
   "source": [
    "# REFERENCES\n",
    "\n",
    "- SciKit Documentation: https://scikit-learn.org/stable/modules/generated/sklearn.neighbors.LocalOutlierFactor.html\n",
    "- ChatGPT:\n",
    "  ```python\n",
    "      # how to calculate the number of rows required in the figure to display all features\n",
    "      num_features = len(housing_cols.columns)\n",
    "      num_rows = (num_features // 3) + (num_features % 3 > 0)\n",
    "          \n",
    "      # how to sum the number of rooms when the dataset is one-hot encoded\n",
    "      bedroom_columns = [col for col in DRX.columns if 'Num_Bedrooms' in col]\n",
    "      bathroom_columns = [col for col in DRX.columns if 'Num_Bathrooms' in col]\n",
    "    \n",
    "      DRX[\"Total_Rooms\"] = sum(DRX[col] * int(col.split('_')[-1]) for col in bedroom_columns) + \\\n",
    "                            sum(DRX[col] * int(col.split('_')[-1]) for col in bathroom_columns)\n",
    "  ```\n",
    "- How to do K-Fold-Cross-Validation and calculating the average R2 score: https://www.datacamp.com/tutorial/k-fold-cross-validation\n",
    "  ```python\n",
    "        # code\n",
    "        average_r2 = np.mean(scores) \n",
    "        print(f\"R² Score for each fold: {[round(score, 4) for score in scores]}\")\n",
    "        print(f\"Average R² across {k} folds: {average_r2:.2f}\")\n",
    "  ```\n",
    "- SciKit-Learn Linear Models: https://scikit-learn.org/stable/modules/linear_model.html\n",
    "  "
   ]
  },
  {
   "cell_type": "code",
   "execution_count": null,
   "id": "0716ebf3-8681-4c20-b90c-a7555e80b6c9",
   "metadata": {},
   "outputs": [],
   "source": []
  }
 ],
 "metadata": {
  "kernelspec": {
   "display_name": "Python 3 (ipykernel)",
   "language": "python",
   "name": "python3"
  },
  "language_info": {
   "codemirror_mode": {
    "name": "ipython",
    "version": 3
   },
   "file_extension": ".py",
   "mimetype": "text/x-python",
   "name": "python",
   "nbconvert_exporter": "python",
   "pygments_lexer": "ipython3",
   "version": "3.13.2"
  }
 },
 "nbformat": 4,
 "nbformat_minor": 5
}
